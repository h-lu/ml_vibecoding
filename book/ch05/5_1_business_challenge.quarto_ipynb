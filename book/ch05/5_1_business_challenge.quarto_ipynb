{
  "cells": [
    {
      "cell_type": "markdown",
      "metadata": {},
      "source": [
        "---\n",
        "title: \"5.1 商业挑战：预测未来\"\n",
        "---\n",
        "\n",
        "### 开篇商业挑战\n",
        "\n",
        "想象一下，你是一家新兴的房地产科技公司的首席数据科学家。你的公司希望颠覆传统的房屋估价行业。传统估价师依赖经验和少量近期交易，过程耗时且主观性强。你的任务是：**利用公司拥有的大量历史交易数据，构建一个自动化的、数据驱动的房价预测模型。**\n",
        "\n",
        "这个模型需要根据房屋的各种特征——例如房屋面积、所在街区、建造年份、卧室数量、是否有地铁等——来精确地预测其可能的市场售价。\n",
        "\n",
        "这是一个典型的**回归问题 (Regression Problem)**。\n",
        "\n",
        "我们的输入是描述房屋的一系列**特征 (Features)**，输出是一个连续的数值——**预测价格 (Predicted Price)**。这个模型一旦建成，将成为公司业务的核心：\n",
        "-   它可以为网站上的每一套房产提供即时、客观的估价。\n",
        "-   它可以帮助销售团队识别定价过高或过低的房产。\n",
        "-   它可以赋能投资部门，发现市场上被低估的投资机会。\n",
        "\n",
        "### 第一性原理：回归是在特征空间中寻找“最佳函数”\n",
        "\n",
        "在深入研究任何具体的回归算法之前，让我们先从第一性原理的角度思考这个问题的本质。\n",
        "\n",
        "我们可以将每一套房子想象成高维特征空间中的一个点。例如，假设我们只有两个特征：`面积`（平方米）和`位置便利度`（0-10分）。那么，我们可以在一个二维平面上标记出我们数据库里所有的房子。"
      ],
      "id": "a0e039e0"
    },
    {
      "cell_type": "code",
      "metadata": {},
      "source": [
        "#| label: fig-feature-space-intro\n",
        "#| fig-cap: 将房产数据点化在二维特征空间中\n",
        "#| echo: false\n",
        "#| eval: true\n",
        "\n",
        "import numpy as np\n",
        "import pandas as pd\n",
        "import plotly.express as px\n",
        "import plotly.io as pio\n",
        "pio.renderers.default = \"notebook\"\n",
        "\n",
        "# 生成模拟数据\n",
        "np.random.seed(42)\n",
        "n_samples = 100\n",
        "area = np.random.uniform(50, 200, n_samples)\n",
        "location_score = np.random.uniform(3, 10, n_samples)\n",
        "# 价格是面积和位置的函数，加上一些噪声\n",
        "price = 1.5 * area + 30 * location_score + np.random.normal(0, 50, n_samples)\n",
        "\n",
        "df = pd.DataFrame({\n",
        "    '面积 (平方米)': area,\n",
        "    '位置便利度 (0-10分)': location_score,\n",
        "    '价格 (万元)': price\n",
        "})\n",
        "\n",
        "fig = px.scatter_3d(df, x='面积 (平方米)', y='位置便利度 (0-10分)', z='价格 (万元)',\n",
        "                    title='房产数据的三维特征空间视图',\n",
        "                    color='价格 (万元)',\n",
        "                    color_continuous_scale='viridis')\n",
        "fig.update_layout(height=600)\n",
        "fig.show()"
      ],
      "id": "fig-feature-space-intro",
      "execution_count": null,
      "outputs": []
    },
    {
      "cell_type": "markdown",
      "metadata": {},
      "source": [
        "*上图展示了一个三维空间，其中x轴是面积，y轴是位置，z轴是我们想要预测的价格。每一个点代表一套我们已知的房子。*\n",
        "\n",
        "现在，回归任务的本质可以被重新定义为：\n",
        "\n",
        "**在高维的特征空间中，寻找一个函数 f(x)，这个函数在空间中对应着一条线或一个面（或超平面），使其能够尽可能地“贴近”所有已知的蓝色数据点。**\n",
        "\n",
        "这个“贴近”的过程，我们称之为**拟合 (Fitting)**。一旦我们找到了这个最佳的函数（或最佳的“面”），我们就可以用它来预测任何一个我们不知道价格的新房子。\n",
        "\n",
        "例如，来了一套新房子，我们知道它的面积是 120 平方米，位置便利度是 8 分。我们只需要在空间中找到这个点，然后看看我们找到的那个“最佳拟合面”在这一点的高度是多少，那个高度就是我们对这套新房子价格的预测。\n",
        "\n",
        "从这个视角出发，所有不同的回归算法，无论是简单的线性回归，还是复杂的梯度提升树，它们的**目标是相同的**：都是在尝试找到那个“最佳”的函数/曲面。它们的**区别仅在于**：\n",
        "\n",
        "1.  它们对这个函数的**形态假设**不同（是直线、多项式曲线，还是更复杂的形状？）。\n",
        "2.  它们定义和寻找“最佳”的**策略**不同。\n",
        "\n",
        "理解了这一点，我们就抓住了所有回归问题的“纲”，接下来就可以深入到具体的算法“目”中去了。我们将从最简单、最优雅的假设开始：假设这个“最佳函数”是一条直线（或一个平面）。这就是线性回归。"
      ],
      "id": "849ab397"
    }
  ],
  "metadata": {
    "kernelspec": {
      "name": "python3",
      "language": "python",
      "display_name": "Python 3 (ipykernel)",
      "path": "/Users/wangxq/.pyenv/versions/3.9.13/share/jupyter/kernels/python3"
    }
  },
  "nbformat": 4,
  "nbformat_minor": 5
}